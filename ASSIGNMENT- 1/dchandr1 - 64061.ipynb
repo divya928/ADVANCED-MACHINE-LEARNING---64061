{
  "nbformat": 4,
  "nbformat_minor": 0,
  "metadata": {
    "colab": {
      "provenance": []
    },
    "kernelspec": {
      "name": "python3",
      "display_name": "Python 3"
    },
    "language_info": {
      "name": "python"
    }
  },
  "cells": [
    {
      "cell_type": "code",
      "execution_count": null,
      "metadata": {
        "id": "1Ohuhwwmr0x9"
      },
      "outputs": [],
      "source": [
        "#################################################\n",
        "# Advanced Machine Learning                     #\n",
        "# Assignment 1 - Neural Network - IMDB data set #\n",
        "# Name: Divya Chandrasekaran                    #\n",
        "# Due Date: 22/02/2024                          #\n",
        "#################################################"
      ]
    },
    {
      "cell_type": "code",
      "source": [
        "#USING THE IMBD DATASET\n",
        "#Dataset is divided into train data and test data Data is loaded and 10,000 most frequently occuring words are kept\n",
        "\n",
        "from tensorflow.keras.datasets import imdb\n",
        "(train_data, train_labels), (test_data, test_labels) = imdb.load_data(\n",
        "    num_words=10000)"
      ],
      "metadata": {
        "colab": {
          "base_uri": "https://localhost:8080/",
          "height": 0
        },
        "id": "00IxpBEtr94X",
        "outputId": "30528d8b-66a4-419a-a68b-38090878023c"
      },
      "execution_count": 1,
      "outputs": [
        {
          "output_type": "stream",
          "name": "stdout",
          "text": [
            "Downloading data from https://storage.googleapis.com/tensorflow/tf-keras-datasets/imdb.npz\n",
            "17464789/17464789 [==============================] - 0s 0us/step\n"
          ]
        }
      ]
    },
    {
      "cell_type": "code",
      "source": [
        "# Check the first label\n",
        "\n",
        "train_labels[0]"
      ],
      "metadata": {
        "colab": {
          "base_uri": "https://localhost:8080/",
          "height": 0
        },
        "id": "XPLxXdDxsWA2",
        "outputId": "cd759d86-d68f-4b3b-9ec4-4647b4c41952"
      },
      "execution_count": 2,
      "outputs": [
        {
          "output_type": "execute_result",
          "data": {
            "text/plain": [
              "1"
            ]
          },
          "metadata": {},
          "execution_count": 2
        }
      ]
    },
    {
      "cell_type": "code",
      "source": [
        "# 10000 frequent words are taken into account and  word index should not be exceeded to the frequent word count.\n",
        "# Finding the max of all the max indexes\n",
        "\n",
        "max([max(sequence) for sequence in train_data])"
      ],
      "metadata": {
        "colab": {
          "base_uri": "https://localhost:8080/",
          "height": 0
        },
        "id": "NEvAQL66soFM",
        "outputId": "b81a4e93-f236-4fd0-9a7d-c88cb6369a95"
      },
      "execution_count": 3,
      "outputs": [
        {
          "output_type": "execute_result",
          "data": {
            "text/plain": [
              "9999"
            ]
          },
          "metadata": {},
          "execution_count": 3
        }
      ]
    },
    {
      "cell_type": "markdown",
      "source": [
        "**DECODING REVIEWS BACK TO TEXT**"
      ],
      "metadata": {
        "id": "2JVk__xsvgSX"
      }
    },
    {
      "cell_type": "code",
      "source": [
        "#Loading the mappings from word to integer index and reverse the word index to integer  and then decode the review by mapping integer\n",
        "\n",
        "# step 1: Load the mappings of the dictionary from the word to integer index\n",
        "\n",
        "word_index = imdb.get_word_index()\n",
        "\n",
        "# step 2: reverse word index to integer mapping\n",
        "\n",
        "reverse_word_index = dict(\n",
        "    [(value, key) for (key, value) in word_index.items()])\n",
        "\n",
        "# step 3: Decode the review, mapping integer to words\n",
        "\n",
        "decoded_review = \" \".join(\n",
        "    [reverse_word_index.get(i - 3, \"?\") for i in train_data[0]])"
      ],
      "metadata": {
        "colab": {
          "base_uri": "https://localhost:8080/",
          "height": 0
        },
        "id": "Jx4RIOJCst2A",
        "outputId": "a9426fcb-9c4b-43d8-9796-8d8d137b1dcd"
      },
      "execution_count": 4,
      "outputs": [
        {
          "output_type": "stream",
          "name": "stdout",
          "text": [
            "Downloading data from https://storage.googleapis.com/tensorflow/tf-keras-datasets/imdb_word_index.json\n",
            "1641221/1641221 [==============================] - 0s 0us/step\n"
          ]
        }
      ]
    },
    {
      "cell_type": "markdown",
      "source": [
        "**PREPARING THE DATA**\n",
        "\n",
        "\n",
        "\n",
        "\n",
        "Our deep convolutional neural network cannot be provided a list of numbers. We'll have to transform them into tensors. To prepare our data, we'll use One-hot Encoding to transform our lists into vectors of 0s and 1s. Each of our sequences would be blown up into 10,000-dimensional vectors with 1 at all positions connecting all numbers in the sequence. This vector will contain the element 0 for all values that are not in integer order. Simply put, each evaluation will be symbolized by a 10,000- dimensional vector. Each index correlates to a particular phrase. Every index with the value 1 indicates a term in the review that is marked by its integer equivalent. Every number that begins with 0 is a name"
      ],
      "metadata": {
        "id": "1cEQRWfdwGaA"
      }
    },
    {
      "cell_type": "code",
      "source": [
        "#Encoding the integer sequences via multi-hot encoding\n",
        "\n",
        "\n",
        "import numpy as np\n",
        "def vectorize_sequences(sequences, dimension=10000):\n",
        "    results = np.zeros((len(sequences), dimension))\n",
        "    for i, sequence in enumerate(sequences):\n",
        "        for j in sequence:\n",
        "            results[i, j] = 1.\n",
        "    return results\n",
        "\n",
        "# Vectorizing the training and test data\n",
        "x_train = vectorize_sequences(train_data)\n",
        "x_test = vectorize_sequences(test_data)"
      ],
      "metadata": {
        "id": "lVUi5fcQsvmN"
      },
      "execution_count": 5,
      "outputs": []
    },
    {
      "cell_type": "code",
      "source": [
        "x_train[0]\n",
        ""
      ],
      "metadata": {
        "colab": {
          "base_uri": "https://localhost:8080/",
          "height": 0
        },
        "id": "9DwpxfdJs0GM",
        "outputId": "97c64299-ce7a-47c3-8287-9ed0fa4cef61"
      },
      "execution_count": 6,
      "outputs": [
        {
          "output_type": "execute_result",
          "data": {
            "text/plain": [
              "array([0., 1., 1., ..., 0., 0., 0.])"
            ]
          },
          "metadata": {},
          "execution_count": 6
        }
      ]
    },
    {
      "cell_type": "code",
      "source": [
        "y_train = np.asarray(train_labels).astype(\"float32\")\n",
        "y_test = np.asarray(test_labels).astype(\"float32\")"
      ],
      "metadata": {
        "id": "BhIUV9jss5Yz"
      },
      "execution_count": 7,
      "outputs": []
    },
    {
      "cell_type": "markdown",
      "source": [
        "**BUILDING OUR MODEL**\n",
        "\n",
        "Building the model using 1 Hidden Layer, 64 Hidden unit with tanh activation and mse loss function instead of binary_crossentropy\n",
        "\n",
        "**MAKING OUR MODELL**\n",
        "\n",
        "Our initial dataset was made up of vectors that needed to be transformed to encoder labels (0s and 1s). This is one of the most fundamental configurations, and a basic stack of completely linked Dense layers with relu activation works well.\n",
        "\n"
      ],
      "metadata": {
        "id": "kr02SFgFwfmU"
      }
    },
    {
      "cell_type": "code",
      "source": [
        "from tensorflow import keras\n",
        "from tensorflow.keras import layers\n",
        "\n",
        "model = keras.Sequential([\n",
        "    layers.Dense(32, activation=\"tanh\"),\n",
        "    layers.Dense(32, activation=\"tanh\"),\n",
        "    layers.Dense(32, activation=\"tanh\"),\n",
        "    layers.Dense(1, activation=\"sigmoid\")\n",
        "])"
      ],
      "metadata": {
        "id": "rznMtifVs9Qg"
      },
      "execution_count": 8,
      "outputs": []
    },
    {
      "cell_type": "markdown",
      "source": [
        "**COMPILING OUR MODEL**\n",
        "\n",
        "\n",
        "\n",
        "\n",
        "We will look at the optimizer, loss function, and data during the compilation phase. The following methods will be used in this case. The binary crossentropy loss function is employed in binary categorization. rmsprop is the algorithm used. Accuracy is used to assess success. Because keras includes all of the rmsprop, binary crossentropy, and accuracy functions, the above methods can be used to build the model\n",
        "\n"
      ],
      "metadata": {
        "id": "_QW5t7q7w_gR"
      }
    },
    {
      "cell_type": "code",
      "source": [
        "model.compile(optimizer=\"adam\",\n",
        "              loss=\"mean_squared_error\",\n",
        "              metrics=[\"accuracy\"])"
      ],
      "metadata": {
        "id": "_qVb_o50tAnh"
      },
      "execution_count": 9,
      "outputs": []
    },
    {
      "cell_type": "markdown",
      "source": [
        "**VALIDATING THE APPROACH**"
      ],
      "metadata": {
        "id": "Zsr8NY2KtCb2"
      }
    },
    {
      "cell_type": "markdown",
      "source": [
        "\n",
        "**SETTING ASIDE A VALIDATION SET**\n",
        "\n",
        "\n",
        "We'll save some of our training data to test the model's accuracy as it advances. A validation set enables businesses to track our model's development through epochs during training on previously unknown data. We can fine-tune the model's training settings using validation stages. To avoid data overfitting and underfitting, use the fit tool."
      ],
      "metadata": {
        "id": "upOxLQ8GxMHG"
      }
    },
    {
      "cell_type": "code",
      "source": [
        "x_val = x_train[:10000]\n",
        "partial_x_train = x_train[10000:]\n",
        "y_val = y_train[:10000]\n",
        "partial_y_train = y_train[10000:]"
      ],
      "metadata": {
        "id": "diI9YyjWtHA3"
      },
      "execution_count": 10,
      "outputs": []
    },
    {
      "cell_type": "markdown",
      "source": [
        "**TRAINING YOUR MODEL**\n",
        "\n",
        "\n",
        "When invoked, the fit method will return a History object. This object has a member history that contains all training process information, including the values of visible or tracked quantities as the epochs advance. This object will be saved so that we can better determine how to fine-tune the training process."
      ],
      "metadata": {
        "id": "JxppYF_mxb1p"
      }
    },
    {
      "cell_type": "code",
      "source": [
        "## model planned to train with 20 epoch with batch size of 256\n",
        "history = model.fit(partial_x_train,\n",
        "                    partial_y_train,\n",
        "                    epochs=20,\n",
        "                    batch_size=256,\n",
        "                    validation_data=(x_val, y_val))"
      ],
      "metadata": {
        "colab": {
          "base_uri": "https://localhost:8080/",
          "height": 0
        },
        "id": "7k_QOsVttNko",
        "outputId": "677507c3-b125-44d3-f30f-3c1f0a136a0e"
      },
      "execution_count": 11,
      "outputs": [
        {
          "output_type": "stream",
          "name": "stdout",
          "text": [
            "Epoch 1/20\n",
            "59/59 [==============================] - 5s 60ms/step - loss: 0.1204 - accuracy: 0.8325 - val_loss: 0.0845 - val_accuracy: 0.8848\n",
            "Epoch 2/20\n",
            "59/59 [==============================] - 2s 30ms/step - loss: 0.0488 - accuracy: 0.9379 - val_loss: 0.0902 - val_accuracy: 0.8801\n",
            "Epoch 3/20\n",
            "59/59 [==============================] - 1s 25ms/step - loss: 0.0303 - accuracy: 0.9648 - val_loss: 0.0993 - val_accuracy: 0.8750\n",
            "Epoch 4/20\n",
            "59/59 [==============================] - 1s 25ms/step - loss: 0.0223 - accuracy: 0.9761 - val_loss: 0.1048 - val_accuracy: 0.8742\n",
            "Epoch 5/20\n",
            "59/59 [==============================] - 2s 30ms/step - loss: 0.0202 - accuracy: 0.9779 - val_loss: 0.1119 - val_accuracy: 0.8696\n",
            "Epoch 6/20\n",
            "59/59 [==============================] - 1s 24ms/step - loss: 0.0211 - accuracy: 0.9756 - val_loss: 0.1144 - val_accuracy: 0.8681\n",
            "Epoch 7/20\n",
            "59/59 [==============================] - 2s 29ms/step - loss: 0.0226 - accuracy: 0.9738 - val_loss: 0.1191 - val_accuracy: 0.8633\n",
            "Epoch 8/20\n",
            "59/59 [==============================] - 2s 39ms/step - loss: 0.0178 - accuracy: 0.9803 - val_loss: 0.1184 - val_accuracy: 0.8665\n",
            "Epoch 9/20\n",
            "59/59 [==============================] - 2s 30ms/step - loss: 0.0143 - accuracy: 0.9847 - val_loss: 0.1201 - val_accuracy: 0.8659\n",
            "Epoch 10/20\n",
            "59/59 [==============================] - 1s 25ms/step - loss: 0.0124 - accuracy: 0.9874 - val_loss: 0.1210 - val_accuracy: 0.8654\n",
            "Epoch 11/20\n",
            "59/59 [==============================] - 1s 25ms/step - loss: 0.0132 - accuracy: 0.9861 - val_loss: 0.1235 - val_accuracy: 0.8632\n",
            "Epoch 12/20\n",
            "59/59 [==============================] - 2s 30ms/step - loss: 0.0123 - accuracy: 0.9871 - val_loss: 0.1228 - val_accuracy: 0.8650\n",
            "Epoch 13/20\n",
            "59/59 [==============================] - 2s 29ms/step - loss: 0.0130 - accuracy: 0.9859 - val_loss: 0.1260 - val_accuracy: 0.8627\n",
            "Epoch 14/20\n",
            "59/59 [==============================] - 2s 29ms/step - loss: 0.0128 - accuracy: 0.9864 - val_loss: 0.1274 - val_accuracy: 0.8615\n",
            "Epoch 15/20\n",
            "59/59 [==============================] - 2s 38ms/step - loss: 0.0141 - accuracy: 0.9845 - val_loss: 0.1269 - val_accuracy: 0.8623\n",
            "Epoch 16/20\n",
            "59/59 [==============================] - 2s 28ms/step - loss: 0.0169 - accuracy: 0.9810 - val_loss: 0.1269 - val_accuracy: 0.8615\n",
            "Epoch 17/20\n",
            "59/59 [==============================] - 2s 29ms/step - loss: 0.0151 - accuracy: 0.9836 - val_loss: 0.1252 - val_accuracy: 0.8642\n",
            "Epoch 18/20\n",
            "59/59 [==============================] - 2s 30ms/step - loss: 0.0142 - accuracy: 0.9846 - val_loss: 0.1240 - val_accuracy: 0.8655\n",
            "Epoch 19/20\n",
            "59/59 [==============================] - 2s 30ms/step - loss: 0.0123 - accuracy: 0.9871 - val_loss: 0.1263 - val_accuracy: 0.8636\n",
            "Epoch 20/20\n",
            "59/59 [==============================] - 2s 30ms/step - loss: 0.0116 - accuracy: 0.9877 - val_loss: 0.1272 - val_accuracy: 0.8628\n"
          ]
        }
      ]
    },
    {
      "cell_type": "code",
      "source": [
        "history_dict = history.history\n",
        "history_dict.keys()\n",
        "\n",
        "#history_dict consists of\n",
        "#Training loss\n",
        "#Training Accuracy\n",
        "#Validation Loss\n",
        "#Validation Accuracy"
      ],
      "metadata": {
        "colab": {
          "base_uri": "https://localhost:8080/",
          "height": 0
        },
        "id": "-V55IUtAtdVc",
        "outputId": "35f56b35-71b9-47a4-b2cb-995bf7785dcb"
      },
      "execution_count": 12,
      "outputs": [
        {
          "output_type": "execute_result",
          "data": {
            "text/plain": [
              "dict_keys(['loss', 'accuracy', 'val_loss', 'val_accuracy'])"
            ]
          },
          "metadata": {},
          "execution_count": 12
        }
      ]
    },
    {
      "cell_type": "markdown",
      "source": [
        "**PLOTTING THE TRAINING AND VALIDATION LOSS**"
      ],
      "metadata": {
        "id": "rDY0PYfwx8Wj"
      }
    },
    {
      "cell_type": "code",
      "source": [
        "import matplotlib.pyplot as plt\n",
        "history_dict = history.history\n",
        "loss_values = history_dict[\"loss\"]\n",
        "val_loss_values = history_dict[\"val_loss\"]\n",
        "epochs = range(1, len(loss_values) + 1)\n",
        "plt.plot(epochs, loss_values, \"bo\", label=\"Training loss\")\n",
        "plt.plot(epochs, val_loss_values, \"b\", label=\"Validation loss\")\n",
        "plt.title(\"Training and validation loss\")\n",
        "plt.xlabel(\"Epochs\")\n",
        "plt.ylabel(\"Loss\")\n",
        "plt.legend()\n",
        "plt.show()\n",
        ""
      ],
      "metadata": {
        "colab": {
          "base_uri": "https://localhost:8080/",
          "height": 472
        },
        "id": "Ald86Ng8th_u",
        "outputId": "1161feb1-a8d4-4932-f175-876e60248653"
      },
      "execution_count": 18,
      "outputs": [
        {
          "output_type": "display_data",
          "data": {
            "text/plain": [
              "<Figure size 640x480 with 1 Axes>"
            ],
            "image/png": "[encoded data removed]"
          },
          "metadata": {}
        }
      ]
    },
    {
      "cell_type": "markdown",
      "source": [
        "**PLOTTING THE TRAINING AND VALIDATION ACCURACY**"
      ],
      "metadata": {
        "id": "Sm6SymTgyZGM"
      }
    },
    {
      "cell_type": "code",
      "source": [
        "plt.clf()\n",
        "acc = history_dict[\"accuracy\"]\n",
        "val_acc = history_dict[\"val_accuracy\"]\n",
        "plt.plot(epochs, acc, \"bo\", label=\"Training acc\")\n",
        "plt.plot(epochs, val_acc, \"b\", label=\"Validation acc\")\n",
        "plt.title(\"Training and validation accuracy\")\n",
        "plt.xlabel(\"Epochs\")\n",
        "plt.ylabel(\"Accuracy\")\n",
        "plt.legend()\n",
        "plt.show()"
      ],
      "metadata": {
        "colab": {
          "base_uri": "https://localhost:8080/",
          "height": 472
        },
        "id": "sra5vs2Ntpca",
        "outputId": "ef87bd4f-4708-4a62-cc36-a7a439f7b24c"
      },
      "execution_count": 19,
      "outputs": [
        {
          "output_type": "display_data",
          "data": {
            "text/plain": [
              "<Figure size 640x480 with 1 Axes>"
            ],
            "image/png": "[encoded data removed]"
          },
          "metadata": {}
        }
      ]
    },
    {
      "cell_type": "markdown",
      "source": [
        "The graphs above show that the lowest validation loss and optimum validation accuracy occur at 3 to 5 epochs. Then we notice two patterns.\n",
        "\n",
        "Validation loss rises, while training loss falls.\n",
        "\n",
        "The certification accuracy falls while the training accuracy rises.\n",
        "\n",
        "The preceding consequences imply that while the model improves at classifying the training data, it consistently makes worse forecasts when it meets new and unknown data, indicating overfitting. After the fifth epoch, the algorithm starts to match the training data too closely.\n",
        "\n",
        "To resolve overfitting, the epoch count is decreased to between 3 and 5 epochs. The epochs may differ based on the machine and the character of randomly allocated weights."
      ],
      "metadata": {
        "id": "Xt2FKFGRyiIZ"
      }
    },
    {
      "cell_type": "code",
      "source": [
        "\n",
        "results = model.evaluate(x_test, y_test)"
      ],
      "metadata": {
        "colab": {
          "base_uri": "https://localhost:8080/",
          "height": 0
        },
        "id": "fn3wXa0jtxBT",
        "outputId": "cddd4f66-660f-44eb-9bb0-fab766f3d72c"
      },
      "execution_count": 15,
      "outputs": [
        {
          "output_type": "stream",
          "name": "stdout",
          "text": [
            "782/782 [==============================] - 3s 3ms/step - loss: 0.1395 - accuracy: 0.8493\n"
          ]
        }
      ]
    },
    {
      "cell_type": "code",
      "source": [
        "results"
      ],
      "metadata": {
        "colab": {
          "base_uri": "https://localhost:8080/",
          "height": 0
        },
        "id": "XDYq4y3Tt24f",
        "outputId": "4d74f481-2fc8-499a-dc8d-593038732d25"
      },
      "execution_count": 16,
      "outputs": [
        {
          "output_type": "execute_result",
          "data": {
            "text/plain": [
              "[0.1394646316766739, 0.8493199944496155]"
            ]
          },
          "metadata": {},
          "execution_count": 16
        }
      ]
    },
    {
      "cell_type": "markdown",
      "source": [
        "**COMBINING ALL THE CODE TOGETHER ALONG WITH THE DROPOUT LAYER**"
      ],
      "metadata": {
        "id": "A6GLjmWOt_hD"
      }
    },
    {
      "cell_type": "code",
      "source": [
        "# Libraries required for setting up an environment\n",
        "\n",
        "#####################################\n",
        "from tensorflow import keras\n",
        "from tensorflow.keras import layers\n",
        "from keras.layers import Dense\n",
        "from keras.layers import Dropout\n",
        "from tensorflow.keras import regularizers\n",
        "#####################################\n",
        "\n",
        "\n",
        "#RETAINING A MODEL FROM SCRATCH\n",
        "\n",
        "#Employing the Neural network implementation by using 3 layered approach with a single dropout layer\n",
        "\n",
        "#######################################\n",
        "model = keras.Sequential()\n",
        "model.add(Dense(32,activation='tanh'))\n",
        "model.add(Dropout(0.5))\n",
        "#kernel_regularizer=regularizers.L1(0.01), activity_regularizer=regularizers.L2(0.01))\n",
        "model.add(Dense(32,activation='tanh',kernel_regularizer=regularizers.L1(0.01), activity_regularizer=regularizers.L2(0.01)))\n",
        "model.add(Dropout(0.5))\n",
        "model.add(Dense(32,activation='tanh'))\n",
        "model.add(Dense(1, activation='sigmoid'))\n",
        "########################################\n",
        "\n",
        "#Here for compilation we used optimizer \"adagrad\", mean squared error loss and accuracy metrics\n",
        "########################################\n",
        "model.compile(optimizer=\"adam\",\n",
        "              loss=\"mean_squared_error\",\n",
        "              metrics=[\"accuracy\"])\n",
        "########################################\n",
        "\n",
        "\n",
        "##Here, Let's start by splitting the data\n",
        "#######################################\n",
        "x_val = x_train[:10000]\n",
        "partial_x_train = x_train[10000:]\n",
        "y_val = y_train[:10000]\n",
        "partial_y_train = y_train[10000:]\n",
        "#######################################\n",
        "\n",
        "\n",
        "#Training a neural network\n",
        "#####################################################\n",
        "history = model.fit(partial_x_train,\n",
        "                    partial_y_train,\n",
        "                    epochs=20,\n",
        "                    batch_size=256,\n",
        "                    validation_data=(x_val, y_val))\n",
        "#####################################################\n",
        "\n",
        "\n",
        "# plotting the Training and Validation accuracy\n",
        "####################################################\n",
        "plt.clf()\n",
        "acc = history_dict[\"accuracy\"]\n",
        "val_acc = history_dict[\"val_accuracy\"]\n",
        "plt.plot(epochs, acc, \"bo\", label=\"Training acc\")\n",
        "plt.plot(epochs, val_acc, \"b\", label=\"Validation acc\")\n",
        "plt.title(\"Training and validation accuracy\")\n",
        "plt.xlabel(\"Epochs\")\n",
        "plt.ylabel(\"Accuracy\")\n",
        "plt.legend()\n",
        "plt.show()\n",
        "####################################################\n",
        "\n",
        "\n",
        "# Evaluating the results\n",
        "results = model.evaluate(x_test, y_test)\n",
        "results\n",
        ""
      ],
      "metadata": {
        "colab": {
          "base_uri": "https://localhost:8080/",
          "height": 1201
        },
        "id": "MyoBBM5muJnj",
        "outputId": "31de181a-c747-467c-fc08-71e036fa7a26"
      },
      "execution_count": 17,
      "outputs": [
        {
          "output_type": "stream",
          "name": "stdout",
          "text": [
            "Epoch 1/20\n",
            "59/59 [==============================] - 5s 70ms/step - loss: 1.4360 - accuracy: 0.7859 - val_loss: 1.1011 - val_accuracy: 0.8819\n",
            "Epoch 2/20\n",
            "59/59 [==============================] - 2s 31ms/step - loss: 0.8786 - accuracy: 0.9040 - val_loss: 0.6702 - val_accuracy: 0.8879\n",
            "Epoch 3/20\n",
            "59/59 [==============================] - 2s 32ms/step - loss: 0.4949 - accuracy: 0.9325 - val_loss: 0.3703 - val_accuracy: 0.8859\n",
            "Epoch 4/20\n",
            "59/59 [==============================] - 2s 29ms/step - loss: 0.2452 - accuracy: 0.9477 - val_loss: 0.1929 - val_accuracy: 0.8858\n",
            "Epoch 5/20\n",
            "59/59 [==============================] - 2s 32ms/step - loss: 0.1200 - accuracy: 0.9565 - val_loss: 0.1279 - val_accuracy: 0.8861\n",
            "Epoch 6/20\n",
            "59/59 [==============================] - 2s 32ms/step - loss: 0.0819 - accuracy: 0.9633 - val_loss: 0.1162 - val_accuracy: 0.8858\n",
            "Epoch 7/20\n",
            "59/59 [==============================] - 2s 40ms/step - loss: 0.0703 - accuracy: 0.9692 - val_loss: 0.1133 - val_accuracy: 0.8851\n",
            "Epoch 8/20\n",
            "59/59 [==============================] - 2s 38ms/step - loss: 0.0615 - accuracy: 0.9739 - val_loss: 0.1115 - val_accuracy: 0.8832\n",
            "Epoch 9/20\n",
            "59/59 [==============================] - 2s 32ms/step - loss: 0.0553 - accuracy: 0.9776 - val_loss: 0.1119 - val_accuracy: 0.8791\n",
            "Epoch 10/20\n",
            "59/59 [==============================] - 2s 34ms/step - loss: 0.0501 - accuracy: 0.9803 - val_loss: 0.1099 - val_accuracy: 0.8809\n",
            "Epoch 11/20\n",
            "59/59 [==============================] - 2s 33ms/step - loss: 0.0454 - accuracy: 0.9837 - val_loss: 0.1117 - val_accuracy: 0.8809\n",
            "Epoch 12/20\n",
            "59/59 [==============================] - 2s 29ms/step - loss: 0.0420 - accuracy: 0.9857 - val_loss: 0.1120 - val_accuracy: 0.8782\n",
            "Epoch 13/20\n",
            "59/59 [==============================] - 2s 34ms/step - loss: 0.0387 - accuracy: 0.9879 - val_loss: 0.1120 - val_accuracy: 0.8795\n",
            "Epoch 14/20\n",
            "59/59 [==============================] - 2s 41ms/step - loss: 0.0365 - accuracy: 0.9883 - val_loss: 0.1125 - val_accuracy: 0.8779\n",
            "Epoch 15/20\n",
            "59/59 [==============================] - 2s 33ms/step - loss: 0.0337 - accuracy: 0.9903 - val_loss: 0.1125 - val_accuracy: 0.8789\n",
            "Epoch 16/20\n",
            "59/59 [==============================] - 2s 34ms/step - loss: 0.0315 - accuracy: 0.9923 - val_loss: 0.1128 - val_accuracy: 0.8763\n",
            "Epoch 17/20\n",
            "59/59 [==============================] - 2s 29ms/step - loss: 0.0298 - accuracy: 0.9932 - val_loss: 0.1130 - val_accuracy: 0.8757\n",
            "Epoch 18/20\n",
            "59/59 [==============================] - 2s 33ms/step - loss: 0.0280 - accuracy: 0.9931 - val_loss: 0.1129 - val_accuracy: 0.8765\n",
            "Epoch 19/20\n",
            "59/59 [==============================] - 2s 34ms/step - loss: 0.0270 - accuracy: 0.9939 - val_loss: 0.1149 - val_accuracy: 0.8745\n",
            "Epoch 20/20\n",
            "59/59 [==============================] - 3s 44ms/step - loss: 0.0258 - accuracy: 0.9941 - val_loss: 0.1140 - val_accuracy: 0.8746\n"
          ]
        },
        {
          "output_type": "display_data",
          "data": {
            "text/plain": [
              "<Figure size 640x480 with 1 Axes>"
            ],
            "image/png": "[encoded data removed]"
          },
          "metadata": {}
        },
        {
          "output_type": "stream",
          "name": "stdout",
          "text": [
            "782/782 [==============================] - 3s 4ms/step - loss: 0.1239 - accuracy: 0.8605\n"
          ]
        },
        {
          "output_type": "execute_result",
          "data": {
            "text/plain": [
              "[0.12387986481189728, 0.8605200052261353]"
            ]
          },
          "metadata": {},
          "execution_count": 17
        }
      ]
    }
  ]
}